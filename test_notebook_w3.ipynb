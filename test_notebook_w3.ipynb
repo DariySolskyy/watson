{
    "cells": [
        {
            "cell_type": "code",
            "execution_count": 2,
            "metadata": {},
            "outputs": [
                {
                    "data": {
                        "text/html": "<div>\n<style scoped>\n    .dataframe tbody tr th:only-of-type {\n        vertical-align: middle;\n    }\n\n    .dataframe tbody tr th {\n        vertical-align: top;\n    }\n\n    .dataframe thead th {\n        text-align: right;\n    }\n</style>\n<table border=\"1\" class=\"dataframe\">\n  <thead>\n    <tr style=\"text-align: right;\">\n      <th></th>\n      <th>business_status</th>\n      <th>name</th>\n      <th>place_id</th>\n      <th>rating</th>\n      <th>scope</th>\n      <th>types</th>\n      <th>user_ratings_total</th>\n      <th>vicinity</th>\n      <th>geometry_location_lat</th>\n      <th>geometry_location_lng</th>\n      <th>geometry_viewport_northeast_lat</th>\n      <th>geometry_viewport_northeast_lng</th>\n      <th>geometry_viewport_southwest_lat</th>\n      <th>geometry_viewport_southwest_lng</th>\n      <th>plus_code_compound_code</th>\n      <th>plus_code_global_code</th>\n    </tr>\n  </thead>\n  <tbody>\n    <tr>\n      <th>0</th>\n      <td>OPERATIONAL</td>\n      <td>Manhattan Dental Associates</td>\n      <td>ChIJrQLazP9YwokRgkS-cEstbds</td>\n      <td>4.4</td>\n      <td>GOOGLE</td>\n      <td>['dentist', 'health', 'point_of_interest', 'es...</td>\n      <td>13</td>\n      <td>2 W 45th St, New York</td>\n      <td>40.755688</td>\n      <td>-73.980240</td>\n      <td>40.757013</td>\n      <td>-73.978858</td>\n      <td>40.754314</td>\n      <td>-73.981557</td>\n      <td>Q249+7W New York, United States</td>\n      <td>87G8Q249+7W</td>\n    </tr>\n    <tr>\n      <th>1</th>\n      <td>OPERATIONAL</td>\n      <td>212 Smiling Cosmetic Dentistry</td>\n      <td>ChIJ40Mwa1hYwokRSn_owTyLN64</td>\n      <td>4.9</td>\n      <td>GOOGLE</td>\n      <td>['doctor', 'dentist', 'health', 'point_of_inte...</td>\n      <td>351</td>\n      <td>314 W 56th St #105, New York</td>\n      <td>40.766263</td>\n      <td>-73.984384</td>\n      <td>40.767697</td>\n      <td>-73.982971</td>\n      <td>40.764997</td>\n      <td>-73.985671</td>\n      <td>Q288+G6 New York, United States</td>\n      <td>87G8Q288+G6</td>\n    </tr>\n    <tr>\n      <th>2</th>\n      <td>OPERATIONAL</td>\n      <td>Midtown Dental Group West</td>\n      <td>ChIJTwtJ9qxZwokR9P_DOtckW0g</td>\n      <td>4.8</td>\n      <td>GOOGLE</td>\n      <td>['dentist', 'health', 'point_of_interest', 'es...</td>\n      <td>38</td>\n      <td>241 W 37th St, New York</td>\n      <td>40.753831</td>\n      <td>-73.990869</td>\n      <td>40.755086</td>\n      <td>-73.989589</td>\n      <td>40.752387</td>\n      <td>-73.992288</td>\n      <td>Q235+GM New York, United States</td>\n      <td>87G8Q235+GM</td>\n    </tr>\n    <tr>\n      <th>3</th>\n      <td>OPERATIONAL</td>\n      <td>34th Street Dental</td>\n      <td>ChIJex3pOaxZwokRqFhjqqYmnx0</td>\n      <td>4.8</td>\n      <td>GOOGLE</td>\n      <td>['dentist', 'health', 'point_of_interest', 'es...</td>\n      <td>140</td>\n      <td>225 W 35th St #2, New York</td>\n      <td>40.752287</td>\n      <td>-73.991026</td>\n      <td>40.753540</td>\n      <td>-73.989747</td>\n      <td>40.750841</td>\n      <td>-73.992447</td>\n      <td>Q225+WH New York, United States</td>\n      <td>87G8Q225+WH</td>\n    </tr>\n    <tr>\n      <th>4</th>\n      <td>OPERATIONAL</td>\n      <td>Dentistry Beyond Smile, P.C.</td>\n      <td>ChIJPfUi4QBZwokRki_n3-GqHpU</td>\n      <td>0.0</td>\n      <td>GOOGLE</td>\n      <td>['dentist', 'health', 'point_of_interest', 'es...</td>\n      <td>0</td>\n      <td>271 Madison Ave #801, New York</td>\n      <td>40.751158</td>\n      <td>-73.979916</td>\n      <td>40.752603</td>\n      <td>-73.978788</td>\n      <td>40.749903</td>\n      <td>-73.981488</td>\n      <td>Q22C+F2 New York, United States</td>\n      <td>87G8Q22C+F2</td>\n    </tr>\n  </tbody>\n</table>\n</div>",
                        "text/plain": "  business_status                            name  \\\n0     OPERATIONAL     Manhattan Dental Associates   \n1     OPERATIONAL  212 Smiling Cosmetic Dentistry   \n2     OPERATIONAL       Midtown Dental Group West   \n3     OPERATIONAL              34th Street Dental   \n4     OPERATIONAL    Dentistry Beyond Smile, P.C.   \n\n                      place_id  rating   scope  \\\n0  ChIJrQLazP9YwokRgkS-cEstbds     4.4  GOOGLE   \n1  ChIJ40Mwa1hYwokRSn_owTyLN64     4.9  GOOGLE   \n2  ChIJTwtJ9qxZwokR9P_DOtckW0g     4.8  GOOGLE   \n3  ChIJex3pOaxZwokRqFhjqqYmnx0     4.8  GOOGLE   \n4  ChIJPfUi4QBZwokRki_n3-GqHpU     0.0  GOOGLE   \n\n                                               types  user_ratings_total  \\\n0  ['dentist', 'health', 'point_of_interest', 'es...                  13   \n1  ['doctor', 'dentist', 'health', 'point_of_inte...                 351   \n2  ['dentist', 'health', 'point_of_interest', 'es...                  38   \n3  ['dentist', 'health', 'point_of_interest', 'es...                 140   \n4  ['dentist', 'health', 'point_of_interest', 'es...                   0   \n\n                         vicinity  geometry_location_lat  \\\n0           2 W 45th St, New York              40.755688   \n1    314 W 56th St #105, New York              40.766263   \n2         241 W 37th St, New York              40.753831   \n3      225 W 35th St #2, New York              40.752287   \n4  271 Madison Ave #801, New York              40.751158   \n\n   geometry_location_lng  geometry_viewport_northeast_lat  \\\n0             -73.980240                        40.757013   \n1             -73.984384                        40.767697   \n2             -73.990869                        40.755086   \n3             -73.991026                        40.753540   \n4             -73.979916                        40.752603   \n\n   geometry_viewport_northeast_lng  geometry_viewport_southwest_lat  \\\n0                       -73.978858                        40.754314   \n1                       -73.982971                        40.764997   \n2                       -73.989589                        40.752387   \n3                       -73.989747                        40.750841   \n4                       -73.978788                        40.749903   \n\n   geometry_viewport_southwest_lng          plus_code_compound_code  \\\n0                       -73.981557  Q249+7W New York, United States   \n1                       -73.985671  Q288+G6 New York, United States   \n2                       -73.992288  Q235+GM New York, United States   \n3                       -73.992447  Q225+WH New York, United States   \n4                       -73.981488  Q22C+F2 New York, United States   \n\n  plus_code_global_code  \n0           87G8Q249+7W  \n1           87G8Q288+G6  \n2           87G8Q235+GM  \n3           87G8Q225+WH  \n4           87G8Q22C+F2  "
                    },
                    "execution_count": 2,
                    "metadata": {},
                    "output_type": "execute_result"
                }
            ],
            "source": "# The code was removed by Watson Studio for sharing."
        },
        {
            "cell_type": "code",
            "execution_count": null,
            "metadata": {},
            "outputs": [],
            "source": ""
        }
    ],
    "metadata": {
        "kernelspec": {
            "display_name": "Python 3.6 with Spark",
            "language": "python3",
            "name": "python36"
        },
        "language_info": {
            "codemirror_mode": {
                "name": "ipython",
                "version": 3
            },
            "file_extension": ".py",
            "mimetype": "text/x-python",
            "name": "python",
            "nbconvert_exporter": "python",
            "pygments_lexer": "ipython3",
            "version": "3.6.8"
        }
    },
    "nbformat": 4,
    "nbformat_minor": 1
}